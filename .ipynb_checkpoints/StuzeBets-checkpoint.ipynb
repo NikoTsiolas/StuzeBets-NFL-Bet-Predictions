{
 "cells": [
  {
   "cell_type": "code",
   "execution_count": null,
   "id": "fe9c8a81-b269-46b2-ae28-c1514a7d594e",
   "metadata": {},
   "outputs": [],
   "source": [
    "#StuzeBets\n",
    "#Niko Tsiolas\n",
    "#June 24th, 2024\n",
    "\n",
    "import pandas as pd\n",
    "import numpy as np\n",
    "import matplotlib.pyplot as plt\n",
    "import joblib\n",
    "from sklearn.model_selection import train_test_split\n",
    "\n",
    "# Load datasets\n",
    "stadiums = pd.read_csv('nfl_stadiums.csv', encoding='latin1')\n",
    "teams = pd.read_csv('nfl_teams.csv', encoding='latin1')\n",
    "scores = pd.read_csv('spreadspoke_scores.csv', encoding='latin1')\n",
    "\n",
    "# Fill missing values using forward fill method\n",
    "stadiums.ffill(inplace=True)\n",
    "teams.ffill(inplace=True)\n",
    "scores.ffill(inplace=True)\n",
    "\n",
    "# Verify the data cleaning\n",
    "print(stadiums.info())\n",
    "print(scores.info())\n",
    "print(teams.info())\n",
    "\n"
   ]
  },
  {
   "cell_type": "code",
   "execution_count": 11,
   "id": "9be9fc0f-21b1-4566-b949-2ba86139f817",
   "metadata": {},
   "outputs": [
    {
     "name": "stdout",
     "output_type": "stream",
     "text": [
      "            team_home  team_points_avg_home        team_away  \\\n",
      "0      Miami Dolphins             22.871102  Oakland Raiders   \n",
      "1      Houston Oilers             21.135593   Denver Broncos   \n",
      "2  San Diego Chargers             23.104218    Buffalo Bills   \n",
      "3      Miami Dolphins             22.871102    New York Jets   \n",
      "4   Green Bay Packers             23.716942  Baltimore Colts   \n",
      "\n",
      "   team_points_avg_away  \n",
      "0             20.024316  \n",
      "1             19.841102  \n",
      "2             19.232558  \n",
      "3             18.863445  \n",
      "4             19.263158  \n"
     ]
    }
   ],
   "source": [
    "# Calculate average points scored by home and away teams\n",
    "scores['team_points_avg_home'] = scores.groupby('team_home')['score_home'].transform('mean')\n",
    "scores['team_points_avg_away'] = scores.groupby('team_away')['score_away'].transform('mean')\n",
    "\n",
    "# Verify the new features\n",
    "print(scores[['team_home', 'team_points_avg_home', 'team_away', 'team_points_avg_away']].head())\n",
    "\n"
   ]
  },
  {
   "cell_type": "code",
   "execution_count": 14,
   "id": "eb2aec8e-6be9-47a7-af45-8e644b15707d",
   "metadata": {},
   "outputs": [
    {
     "name": "stdout",
     "output_type": "stream",
     "text": [
      "X_train shape: (11258, 7)\n",
      "X_test shape: (2815, 7)\n",
      "y_train shape: (11258,)\n",
      "y_test shape: (2815,)\n"
     ]
    }
   ],
   "source": [
    "scores['home_win'] = (scores['score_home'] > scores ['score_away']).astype(int)\n",
    "#defining the features and target V's\n",
    "features = ['team_points_avg_home', 'team_points_avg_away', 'spread_favorite', 'over_under_line', 'weather_temperature', 'weather_wind_mph', 'weather_humidity']\n",
    "X = scores[features]\n",
    "y = scores['home_win']\n",
    "\n",
    "#just handling missing variables\n",
    "X = X.copy()\n",
    "\n",
    "X.fillna(0, inplace=True)\n",
    "\n",
    "X_train, X_test, y_train, y_test = train_test_split(X, y , test_size = 0.2, random_state=42)\n",
    "\n",
    "print(f'X_train shape: {X_train.shape}')\n",
    "print(f'X_test shape: {X_test.shape}')\n",
    "print(f'y_train shape: {y_train.shape}')\n",
    "print(f'y_test shape: {y_test.shape}')\n"
   ]
  },
  {
   "cell_type": "code",
   "execution_count": 15,
   "id": "39054a63-39ae-4589-a4b1-fad5aa95cf5e",
   "metadata": {},
   "outputs": [
    {
     "name": "stdout",
     "output_type": "stream",
     "text": [
      "First few entries of y_train:\n",
      "6601     1\n",
      "7053     1\n",
      "1897     1\n",
      "12628    1\n",
      "13912    1\n",
      "Name: home_win, dtype: int64\n"
     ]
    }
   ],
   "source": [
    "print ('First few entries of y_train:') \n",
    "print(y_train.head())"
   ]
  },
  {
   "cell_type": "code",
   "execution_count": null,
   "id": "016280cc-8164-4468-b7eb-3ae216c5fd6a",
   "metadata": {},
   "outputs": [],
   "source": []
  }
 ],
 "metadata": {
  "kernelspec": {
   "display_name": "stuzebets",
   "language": "python",
   "name": "stuzebets"
  },
  "language_info": {
   "codemirror_mode": {
    "name": "ipython",
    "version": 3
   },
   "file_extension": ".py",
   "mimetype": "text/x-python",
   "name": "python",
   "nbconvert_exporter": "python",
   "pygments_lexer": "ipython3",
   "version": "3.11.8"
  }
 },
 "nbformat": 4,
 "nbformat_minor": 5
}
