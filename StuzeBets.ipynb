{
 "cells": [
  {
   "cell_type": "code",
   "execution_count": 45,
   "id": "fe9c8a81-b269-46b2-ae28-c1514a7d594e",
   "metadata": {},
   "outputs": [
    {
     "name": "stdout",
     "output_type": "stream",
     "text": [
      "<class 'pandas.core.frame.DataFrame'>\n",
      "RangeIndex: 120 entries, 0 to 119\n",
      "Data columns (total 16 columns):\n",
      " #   Column                           Non-Null Count  Dtype  \n",
      "---  ------                           --------------  -----  \n",
      " 0   stadium_name                     120 non-null    object \n",
      " 1   stadium_location                 120 non-null    object \n",
      " 2   stadium_open                     120 non-null    float64\n",
      " 3   stadium_close                    114 non-null    float64\n",
      " 4   stadium_type                     120 non-null    object \n",
      " 5   stadium_address                  120 non-null    object \n",
      " 6   stadium_weather_station_zipcode  120 non-null    object \n",
      " 7   stadium_weather_type             120 non-null    object \n",
      " 8   stadium_capacity                 120 non-null    object \n",
      " 9   stadium_surface                  120 non-null    object \n",
      " 10  stadium_weather_station          120 non-null    object \n",
      " 11  stadium_weather_station_name     120 non-null    object \n",
      " 12  stadium_latitude                 120 non-null    float64\n",
      " 13  stadium_longitude                120 non-null    float64\n",
      " 14  stadium_azimuthangle             119 non-null    float64\n",
      " 15  stadium_elevation                120 non-null    float64\n",
      "dtypes: float64(6), object(10)\n",
      "memory usage: 15.1+ KB\n",
      "None\n",
      "<class 'pandas.core.frame.DataFrame'>\n",
      "RangeIndex: 14073 entries, 0 to 14072\n",
      "Data columns (total 17 columns):\n",
      " #   Column               Non-Null Count  Dtype  \n",
      "---  ------               --------------  -----  \n",
      " 0   schedule_date        14073 non-null  object \n",
      " 1   schedule_season      14073 non-null  int64  \n",
      " 2   schedule_week        14073 non-null  object \n",
      " 3   schedule_playoff     14073 non-null  bool   \n",
      " 4   team_home            14073 non-null  object \n",
      " 5   score_home           14073 non-null  float64\n",
      " 6   score_away           14073 non-null  float64\n",
      " 7   team_away            14073 non-null  object \n",
      " 8   team_favorite_id     13903 non-null  object \n",
      " 9   spread_favorite      13903 non-null  float64\n",
      " 10  over_under_line      13723 non-null  object \n",
      " 11  stadium              14073 non-null  object \n",
      " 12  stadium_neutral      14073 non-null  bool   \n",
      " 13  weather_temperature  14073 non-null  float64\n",
      " 14  weather_wind_mph     14073 non-null  float64\n",
      " 15  weather_humidity     14073 non-null  float64\n",
      " 16  weather_detail       13720 non-null  object \n",
      "dtypes: bool(2), float64(6), int64(1), object(8)\n",
      "memory usage: 1.6+ MB\n",
      "None\n",
      "<class 'pandas.core.frame.DataFrame'>\n",
      "RangeIndex: 44 entries, 0 to 43\n",
      "Data columns (total 8 columns):\n",
      " #   Column                   Non-Null Count  Dtype \n",
      "---  ------                   --------------  ----- \n",
      " 0   team_name                44 non-null     object\n",
      " 1   team_name_short          44 non-null     object\n",
      " 2   team_id                  44 non-null     object\n",
      " 3   team_id_pfr              44 non-null     object\n",
      " 4   team_conference          44 non-null     object\n",
      " 5   team_division            44 non-null     object\n",
      " 6   team_conference_pre2002  44 non-null     object\n",
      " 7   team_division_pre2002    44 non-null     object\n",
      "dtypes: object(8)\n",
      "memory usage: 2.9+ KB\n",
      "None\n",
      "Index(['schedule_date', 'schedule_season', 'schedule_week', 'schedule_playoff',\n",
      "       'team_home', 'score_home', 'score_away', 'team_away',\n",
      "       'team_favorite_id', 'spread_favorite', 'over_under_line', 'stadium',\n",
      "       'stadium_neutral', 'weather_temperature', 'weather_wind_mph',\n",
      "       'weather_humidity', 'weather_detail'],\n",
      "      dtype='object')\n"
     ]
    }
   ],
   "source": [
    "# StuzeBets\n",
    "# Niko Tsiolas\n",
    "# June 24th, 2024\n",
    "\n",
    "import pandas as pd\n",
    "import numpy as np\n",
    "import matplotlib.pyplot as plt\n",
    "import joblib\n",
    "from sklearn.model_selection import train_test_split\n",
    "from sklearn.ensemble import RandomForestClassifier\n",
    "from sklearn.metrics import accuracy_score, classification_report, roc_auc_score\n",
    "from sklearn.linear_model import LogisticRegression\n",
    "\n",
    "# Load datasets\n",
    "stadiums = pd.read_csv('nfl_stadiums.csv', encoding='latin1')\n",
    "teams = pd.read_csv('nfl_teams.csv', encoding='latin1')\n",
    "scores = pd.read_csv('spreadspoke_scores.csv', encoding='latin1')\n",
    "\n",
    "# Fill missing values using forward fill method\n",
    "stadiums.ffill(inplace=True)\n",
    "teams.ffill(inplace=True)\n",
    "scores.ffill(inplace=True)\n",
    "\n",
    "# Verify the data cleaning\n",
    "print(stadiums.info())\n",
    "print(scores.info())\n",
    "print(teams.info())\n",
    "\n",
    "print(scores.columns)"
   ]
  },
  {
   "cell_type": "code",
   "execution_count": 46,
   "id": "9be9fc0f-21b1-4566-b949-2ba86139f817",
   "metadata": {},
   "outputs": [
    {
     "name": "stdout",
     "output_type": "stream",
     "text": [
      "            team_home  team_points_avg_home        team_away  \\\n",
      "0      Miami Dolphins             22.871102  Oakland Raiders   \n",
      "1      Houston Oilers             21.135593   Denver Broncos   \n",
      "2  San Diego Chargers             23.104218    Buffalo Bills   \n",
      "3      Miami Dolphins             22.871102    New York Jets   \n",
      "4   Green Bay Packers             23.716942  Baltimore Colts   \n",
      "\n",
      "   team_points_avg_away  \n",
      "0             20.024316  \n",
      "1             19.841102  \n",
      "2             19.232558  \n",
      "3             18.863445  \n",
      "4             19.263158  \n"
     ]
    }
   ],
   "source": [
    "# Define win columns\n",
    "scores['home_win'] = (scores['score_home'] > scores['score_away']).astype(int)\n",
    "scores['away_win'] = (scores['score_away'] > scores['score_home']).astype(int)\n",
    "\n",
    "# Calculate average points scored by home and away teams\n",
    "scores['team_points_avg_home'] = scores.groupby('team_home')['score_home'].transform('mean')\n",
    "scores['team_points_avg_away'] = scores.groupby('team_away')['score_away'].transform('mean')\n",
    "\n",
    "# Adding rolling average for the last 5 games for home and away teams\n",
    "scores['home_team_avg_last_5'] = scores.groupby('team_home')['score_home'].transform(lambda x: x.rolling(window=5, min_periods=1).mean())\n",
    "scores['away_team_avg_last_5'] = scores.groupby('team_away')['score_away'].transform(lambda x: x.rolling(window=5, min_periods=1).mean())\n",
    "\n",
    "# Calculate performance metrics based on weather conditions using available columns\n",
    "# Group by home team and weather conditions\n",
    "home_performance = scores.groupby(['team_home', 'weather_temperature', 'weather_wind_mph', 'weather_humidity'])['home_win'].mean().reset_index()\n",
    "home_performance.rename(columns={'team_home': 'team', 'home_win': 'win_rate'}, inplace=True)\n",
    "\n",
    "# Group by away team and weather conditions\n",
    "away_performance = scores.groupby(['team_away', 'weather_temperature', 'weather_wind_mph', 'weather_humidity'])['away_win'].mean().reset_index()\n",
    "away_performance.rename(columns={'team_away': 'team', 'away_win': 'win_rate'}, inplace=True)\n",
    "\n",
    "# Combine home and away performance data\n",
    "performance = pd.concat([home_performance, away_performance])\n",
    "performance = performance.groupby(['team', 'weather_temperature', 'weather_wind_mph', 'weather_humidity'])['win_rate'].mean().reset_index()\n",
    "\n",
    "\n",
    "# Verify the new features\n",
    "print(scores[['team_home', 'team_points_avg_home', 'team_away', 'team_points_avg_away']].head())\n",
    "\n"
   ]
  },
  {
   "cell_type": "code",
   "execution_count": 47,
   "id": "7b32279b-5957-4479-ace4-4798251eb2ed",
   "metadata": {},
   "outputs": [],
   "source": [
    "def get_weather_performance(team, temp, wind, humidity, performance):\n",
    "    perf = performance[(performance['team'] == team) &\n",
    "                       (performance['weather_temperature'] == temp) &\n",
    "                       (performance['weather_wind_mph'] == wind) &\n",
    "                       (performance['weather_humidity'] == humidity)]\n",
    "    return perf['win_rate'].values[0] if not perf.empty else 0.5  # Default to 0.5 if no data available\n",
    "\n",
    "\n",
    "# Apply to home and away teams\n",
    "scores['home_weather_performance'] = scores.apply(lambda row: get_weather_performance(row['team_home'], row['weather_temperature'], row['weather_wind_mph'], row['weather_humidity'], performance), axis=1)\n",
    "scores['away_weather_performance'] = scores.apply(lambda row: get_weather_performance(row['team_away'], row['weather_temperature'], row['weather_wind_mph'], row['weather_humidity'], performance), axis=1)\n"
   ]
  },
  {
   "cell_type": "code",
   "execution_count": 48,
   "id": "eb2aec8e-6be9-47a7-af45-8e644b15707d",
   "metadata": {},
   "outputs": [
    {
     "name": "stdout",
     "output_type": "stream",
     "text": [
      "X_train shape: (11258, 9)\n",
      "X_test shape: (2815, 9)\n",
      "y_train shape: (11258,)\n",
      "y_test shape: (2815,)\n"
     ]
    }
   ],
   "source": [
    "# Define the target variable\n",
    "scores['home_win'] = (scores['score_home'] > scores['score_away']).astype(int)\n",
    "\n",
    "# Define the features and target variables\n",
    "features = ['team_points_avg_home', 'team_points_avg_away', 'spread_favorite', 'over_under_line',\n",
    "            'weather_temperature', 'weather_wind_mph', 'weather_humidity', 'home_weather_performance', 'away_weather_performance']\n",
    "\n",
    "for feature in features:\n",
    "    scores[feature] = pd.to_numeric(scores[feature], errors='coerce')\n",
    "\n",
    "X = scores[features].copy()\n",
    "y = scores['home_win']\n",
    "\n",
    "# Handling missing values\n",
    "X.fillna(0, inplace=True)\n",
    "\n",
    "\n",
    "\n",
    "# Split the data\n",
    "X_train, X_test, y_train, y_test = train_test_split(X, y, test_size=0.2, random_state=42)\n",
    "\n",
    "print(f'X_train shape: {X_train.shape}')\n",
    "print(f'X_test shape: {X_test.shape}')\n",
    "print(f'y_train shape: {y_train.shape}')\n",
    "print(f'y_test shape: {y_test.shape}')\n",
    "\n"
   ]
  },
  {
   "cell_type": "code",
   "execution_count": 49,
   "id": "39054a63-39ae-4589-a4b1-fad5aa95cf5e",
   "metadata": {},
   "outputs": [
    {
     "name": "stdout",
     "output_type": "stream",
     "text": [
      "First few entries of y_train:\n",
      "6601     1\n",
      "7053     1\n",
      "1897     1\n",
      "12628    1\n",
      "13912    1\n",
      "Name: home_win, dtype: int64\n"
     ]
    }
   ],
   "source": [
    "print ('First few entries of y_train:') \n",
    "print(y_train.head())"
   ]
  },
  {
   "cell_type": "code",
   "execution_count": 50,
   "id": "016280cc-8164-4468-b7eb-3ae216c5fd6a",
   "metadata": {},
   "outputs": [
    {
     "name": "stdout",
     "output_type": "stream",
     "text": [
      "Accuracy: 0.9282415630550621\n",
      "Classification Report:\n",
      "              precision    recall  f1-score   support\n",
      "\n",
      "           0       0.92      0.90      0.91      1174\n",
      "           1       0.93      0.95      0.94      1641\n",
      "\n",
      "    accuracy                           0.93      2815\n",
      "   macro avg       0.93      0.92      0.93      2815\n",
      "weighted avg       0.93      0.93      0.93      2815\n",
      "\n",
      "AUC-ROC: 0.98686215763646\n"
     ]
    }
   ],
   "source": [
    "# Train and evaluate the model\n",
    "model = RandomForestClassifier(n_estimators=100, random_state=42)\n",
    "model.fit(X_train, y_train)\n",
    "\n",
    "y_pred = model.predict(X_test)\n",
    "\n",
    "accuracy = accuracy_score(y_test, y_pred)\n",
    "classification_rep = classification_report(y_test, y_pred)\n",
    "roc_auc = roc_auc_score(y_test, model.predict_proba(X_test)[:, 1])\n",
    "\n",
    "print(f'Accuracy: {accuracy}')\n",
    "print(f'Classification Report:\\n{classification_rep}')\n",
    "print(f'AUC-ROC: {roc_auc}')\n"
   ]
  },
  {
   "cell_type": "code",
   "execution_count": null,
   "id": "7a23a8aa-5ade-424a-9a20-fe47b37abd49",
   "metadata": {},
   "outputs": [],
   "source": []
  },
  {
   "cell_type": "code",
   "execution_count": null,
   "id": "de26c679-a388-4a51-9fde-56b5962b7e39",
   "metadata": {},
   "outputs": [],
   "source": []
  },
  {
   "cell_type": "code",
   "execution_count": null,
   "id": "352b5980-4443-483d-af03-186bcca1a138",
   "metadata": {},
   "outputs": [],
   "source": []
  }
 ],
 "metadata": {
  "kernelspec": {
   "display_name": "stuzebets",
   "language": "python",
   "name": "stuzebets"
  },
  "language_info": {
   "codemirror_mode": {
    "name": "ipython",
    "version": 3
   },
   "file_extension": ".py",
   "mimetype": "text/x-python",
   "name": "python",
   "nbconvert_exporter": "python",
   "pygments_lexer": "ipython3",
   "version": "3.11.8"
  }
 },
 "nbformat": 4,
 "nbformat_minor": 5
}
